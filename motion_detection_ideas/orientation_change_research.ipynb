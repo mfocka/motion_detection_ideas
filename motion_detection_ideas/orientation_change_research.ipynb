# --- Simple Orientation & Abrupt Change Detection ---

def lowpass(data, alpha):
    y = np.empty_like(data)
    y[0] = data[0]
    for i in range(1, len(data)):
        y[i] = alpha * data[i] + (1 - alpha) * y[i - 1]
    return y


def tilt_angles(acc_mg):
    """Compute pitch and roll in degrees from accelerometer (mg)."""
    ax, ay, az = acc_mg.T
    ax_g, ay_g, az_g = ax / 1000.0, ay / 1000.0, az / 1000.0  # convert to g
    pitch = np.degrees(np.arctan2(-ax_g, np.sqrt(ay_g**2 + az_g**2)))
    roll = np.degrees(np.arctan2(ay_g, az_g))
    return pitch, roll


def detect_abrupt_changes(pitch, roll, threshold_deg=5.0, window_samples=int(2*FS)):
    """Return boolean array where abrupt orientation change detected."""
    # Use rolling mean to establish baseline
    from collections import deque
    baseline_pitch = []
    baseline_roll = []
    event = np.zeros_like(pitch, dtype=bool)
    dq_pitch = deque(maxlen=window_samples)
    dq_roll = deque(maxlen=window_samples)
    for i in range(len(pitch)):
        dq_pitch.append(pitch[i])
        dq_roll.append(roll[i])
        if len(dq_pitch) < window_samples:
            continue  # build baseline buffer
        bp = np.mean(dq_pitch)
        br = np.mean(dq_roll)
        if abs(pitch[i] - bp) > threshold_deg or abs(roll[i] - br) > threshold_deg:
            event[i] = True
    return event

# --- Run detection on synthetic data ---

pitch, roll = tilt_angles(acc)
# Smooth pitch/roll slightly
pitch_lp = lowpass(pitch, alpha=0.1)
roll_lp = lowpass(roll, alpha=0.1)

abrupt = detect_abrupt_changes(pitch_lp, roll_lp, threshold_deg=5.0)
print(f"Detected {np.sum(abrupt)} samples flagged as abrupt (~{np.sum(abrupt)/FS:.2f} s)")

# Visualize
plt.figure(figsize=(12,4))
plt.plot(t, pitch_lp, label='Pitch')
plt.plot(t, roll_lp, label='Roll')
plt.scatter(t[abrupt], pitch_lp[abrupt], c='r', s=10, label='Abrupt')
plt.legend()
plt.xlabel('Time [s]')
plt.ylabel('Angle [deg]')
plt.title('Orientation and Abrupt Change Detection')
plt.show()# Generate synthetic dataset
params = SimParams()  # default durations and offsets

t, acc, gyro = simulate_imu(params)
quick_plot(t, acc, gyro, title_prefix="Synthetic Data")

print(f"Generated {len(t)} samples (~{t[-1]:.1f} seconds)")import numpy as np
import matplotlib.pyplot as plt
from dataclasses import dataclass

np.random.seed(42)  # Reproducibility

# --- Constants ---
FS = 100                     # Sampling rate [Hz]
DT = 1.0 / FS                # Sample period [s]
G = 9.80665                  # Gravity [m/s^2]

# Baseline sensor readings for static (mean)
ACC_MEAN_MG = np.array([-40, -120, -800])       # mg
GYRO_MEAN_DPS = np.array([12, -15, 8])          # deg/s (should be ~0 but has bias)

# Noise characteristics (1-sigma)
ACC_NOISE_MG = 50            # mg
GYRO_NOISE_DPS = 20          # deg/s

@dataclass
class SimParams:
    duration_static: float = 60.0    # seconds before event
    duration_event: float = 5.0      # seconds of motion
    duration_hold: float = 120.0     # seconds after motion (hold new orientation)
    acc_event_offset_mg: np.ndarray = np.array([400, 400, 500])  # change in accelerometer mean during event (mg)
    gyro_event_rate_dps: np.ndarray = np.array([100, 120, -80])  # angular velocity during event (deg/s)


def simulate_imu(params: SimParams):
    """Generate synthetic IMU data with one abrupt orientation change event."""
    n_static = int(params.duration_static * FS)
    n_event = int(params.duration_event * FS)
    n_hold = int(params.duration_hold * FS)

    # --- Static period ---
    acc_static = ACC_MEAN_MG + np.random.randn(n_static, 3) * ACC_NOISE_MG
    gyro_static = GYRO_MEAN_DPS + np.random.randn(n_static, 3) * GYRO_NOISE_DPS

    # --- Event period (rapid change) ---
    acc_event = (ACC_MEAN_MG + params.acc_event_offset_mg +
                 np.random.randn(n_event, 3) * ACC_NOISE_MG)
    gyro_event = (params.gyro_event_rate_dps +
                  np.random.randn(n_event, 3) * GYRO_NOISE_DPS)

    # --- Hold period (new orientation, gyro back to bias) ---
    acc_new_mean = ACC_MEAN_MG + params.acc_event_offset_mg
    acc_hold = acc_new_mean + np.random.randn(n_hold, 3) * ACC_NOISE_MG
    gyro_hold = GYRO_MEAN_DPS + np.random.randn(n_hold, 3) * GYRO_NOISE_DPS

    acc = np.vstack((acc_static, acc_event, acc_hold))
    gyro = np.vstack((gyro_static, gyro_event, gyro_hold))

    t = np.arange(acc.shape[0]) * DT
    return t, acc, gyro

# Quick sanity check plot helper
def quick_plot(t, acc, gyro, title_prefix=""):
    fig, axes = plt.subplots(2, 1, figsize=(12, 6), sharex=True)
    axes[0].plot(t, acc)
    axes[0].set_ylabel("Accel [mg]")
    axes[0].legend(['Ax', 'Ay', 'Az'])
    axes[0].set_title(f"{title_prefix} Accelerometer")

    axes[1].plot(t, gyro)
    axes[1].set_ylabel("Gyro [dps]")
    axes[1].set_xlabel("Time [s]")
    axes[1].legend(['Gx', 'Gy', 'Gz'])
    axes[1].set_title(f"{title_prefix} Gyroscope")
    plt.tight_layout()
    plt.show()# Orientation Change Detection Research

This notebook is used to prototype algorithms for detecting abrupt orientation changes using the ISM330DHCX (6-axis IMU). We follow the KISS principle: start simple, fail-fast, improve-fast.

Objectives:
1. Simulate realistic sensor signals including wind-induced noise and abrupt orientation events.
2. Prototype lightweight orientation estimation and abrupt change detection algorithms.
3. Evaluate performance and tune thresholds.

