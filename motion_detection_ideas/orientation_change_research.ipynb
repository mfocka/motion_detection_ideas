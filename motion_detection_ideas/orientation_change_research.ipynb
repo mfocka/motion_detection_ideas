# Orientation Change Detection Research

This notebook is used to prototype algorithms for detecting abrupt orientation changes using the ISM330DHCX (6-axis IMU). We follow the KISS principle: start simple, fail-fast, improve-fast.

Objectives:
1. Simulate realistic sensor signals including wind-induced noise and abrupt orientation events.
2. Prototype lightweight orientation estimation and abrupt change detection algorithms.
3. Evaluate performance and tune thresholds.
