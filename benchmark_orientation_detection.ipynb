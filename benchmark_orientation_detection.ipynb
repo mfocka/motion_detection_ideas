{
 "cells": [
  {
   "cell_type": "code",
   "execution_count": null,
   "id": "ddbe53f1",
   "metadata": {},
   "outputs": [],
   "source": [
    "import numpy as np\n",
    "import pandas as pd\n",
    "import matplotlib.pyplot as plt\n",
    "from sensors_framework import preprocess_imu, estimate_orientation\n",
    "\n",
    "FS = 104.0\n",
    "DEG = 180.0/np.pi\n",
    "# Run filters\n",
    "methods = ['complementary','madgwick','mahony']\n",
    "results = {}\n",
    "for m in methods:\n",
    "    euler = estimate_orientation(accel, gyro, method=m, fs_hz=FS)\n",
    "    results[m] = euler\n",
    "    plt.plot(euler * DEG)\n",
    "    plt.title(f'Euler (deg) - {m}')\n",
    "    plt.show()# Load dataset\n",
    "sensors = pd.read_csv('data/imu1.csv')\n",
    "accel_mg = sensors[['accel_x_mg','accel_y_mg','accel_z_mg']].to_numpy()\n",
    "gyro_mdps = sensors[['gyro_x_mdps','gyro_y_mdps','gyro_z_mdps']].to_numpy()\n",
    "accel, gyro = preprocess_imu(accel_mg, gyro_mdps, lp_cutoff_hz=5.0, fs_hz=FS, apply_filter=True)\n",
    "print('Samples:', accel.shape[0])"
   ]
  }
 ],
 "metadata": {
  "language_info": {
   "name": "python"
  }
 },
 "nbformat": 4,
 "nbformat_minor": 5
}
