import numpy as np
import pandas as pd
import matplotlib.pyplot as plt
from sensors_framework import preprocess_imu, estimate_orientation

FS = 104.0
DEG = 180.0/np.pi
# Run filters
methods = ['complementary','madgwick','mahony']
results = {}
for m in methods:
    euler = estimate_orientation(accel, gyro, method=m, fs_hz=FS)
    results[m] = euler
    plt.plot(euler * DEG)
    plt.title(f'Euler (deg) - {m}')
    plt.show()# Load dataset
sensors = pd.read_csv('data/imu1.csv')
accel_mg = sensors[['accel_x_mg','accel_y_mg','accel_z_mg']].to_numpy()
gyro_mdps = sensors[['gyro_x_mdps','gyro_y_mdps','gyro_z_mdps']].to_numpy()
accel, gyro = preprocess_imu(accel_mg, gyro_mdps, lp_cutoff_hz=5.0, fs_hz=FS, apply_filter=True)
print('Samples:', accel.shape[0])